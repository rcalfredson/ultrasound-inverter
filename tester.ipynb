{
 "cells": [
  {
   "cell_type": "code",
   "execution_count": null,
   "id": "74a70791",
   "metadata": {},
   "outputs": [],
   "source": [
    "from image_creator import ImageCreator\n",
    "ImageCreator().generate_displacement"
   ]
  }
 ],
 "metadata": {
  "kernelspec": {
   "display_name": "Python 3",
   "language": "python",
   "name": "python3"
  },
  "language_info": {
   "codemirror_mode": {
    "name": "ipython",
    "version": 3
   },
   "file_extension": ".py",
   "mimetype": "text/x-python",
   "name": "python",
   "nbconvert_exporter": "python",
   "pygments_lexer": "ipython3",
   "version": "3.9.4"
  }
 },
 "nbformat": 4,
 "nbformat_minor": 5
}
