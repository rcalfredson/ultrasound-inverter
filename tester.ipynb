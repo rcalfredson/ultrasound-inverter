{
 "cells": [
  {
   "cell_type": "code",
   "execution_count": null,
   "metadata": {},
   "outputs": [],
   "source": [
    "!rm -rf ultrasound-inverter\n",
    "!git clone https://github.com/rcalfredson/ultrasound-inverter\n",
    "!cd ultrasound-inverter\n",
    "import os\n",
    "os.chdir('ultrasound-inverter')"
   ]
  },
  {
   "cell_type": "code",
   "execution_count": 1,
   "id": "74a70791",
   "metadata": {},
   "outputs": [
    {
     "output_type": "execute_result",
     "data": {
      "text/plain": [
       "<bound method ImageCreator.generate_displacement of <image_creator.ImageCreator object at 0x7f9ae69a50d0>>"
      ]
     },
     "metadata": {},
     "execution_count": 1
    }
   ],
   "source": [
    "from image_creator import ImageCreator\n",
    "ImageCreator().generate_displacement"
   ]
  }
 ],
 "metadata": {
  "kernelspec": {
   "name": "python394jvsc74a57bd0208d4b330638b1b52416e47d8f55114af86e2d7a74d6d93cb0bbddf58f10713e",
   "display_name": "Python 3.9.4 64-bit ('data-sci': conda)"
  },
  "language_info": {
   "codemirror_mode": {
    "name": "ipython",
    "version": 3
   },
   "file_extension": ".py",
   "mimetype": "text/x-python",
   "name": "python",
   "nbconvert_exporter": "python",
   "pygments_lexer": "ipython3",
   "version": "3.9.4"
  }
 },
 "nbformat": 4,
 "nbformat_minor": 5
}